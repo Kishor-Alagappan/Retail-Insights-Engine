{
 "cells": [
  {
   "cell_type": "code",
   "execution_count": 722,
   "metadata": {},
   "outputs": [],
   "source": [
    "# Import necessary libraries\n",
    "import pandas as pd  # Pandas for data manipulation\n",
    "import numpy as np   # NumPy for numerical operations\n",
    "from itertools import combinations  # For creating combinations of items\n",
    "from collections import Counter   # For counting occurrences\n",
    "import datetime   # For date-related operations\n",
    "import warnings   # For handling warnings (ignoring them in this case)\n",
    "\n",
    "# Ignore warning messages for cleaner output\n",
    "warnings.filterwarnings('ignore')\n"
   ]
  },
  {
   "cell_type": "markdown",
   "metadata": {},
   "source": [
    "DATA INGESTION"
   ]
  },
  {
   "cell_type": "code",
   "execution_count": 723,
   "metadata": {},
   "outputs": [
    {
     "data": {
      "text/html": [
       "<div>\n",
       "<style scoped>\n",
       "    .dataframe tbody tr th:only-of-type {\n",
       "        vertical-align: middle;\n",
       "    }\n",
       "\n",
       "    .dataframe tbody tr th {\n",
       "        vertical-align: top;\n",
       "    }\n",
       "\n",
       "    .dataframe thead th {\n",
       "        text-align: right;\n",
       "    }\n",
       "</style>\n",
       "<table border=\"1\" class=\"dataframe\">\n",
       "  <thead>\n",
       "    <tr style=\"text-align: right;\">\n",
       "      <th></th>\n",
       "      <th>BillNo</th>\n",
       "      <th>Itemname</th>\n",
       "      <th>Quantity</th>\n",
       "      <th>Date</th>\n",
       "      <th>Price</th>\n",
       "      <th>CustomerID</th>\n",
       "    </tr>\n",
       "  </thead>\n",
       "  <tbody>\n",
       "    <tr>\n",
       "      <th>0</th>\n",
       "      <td>558638</td>\n",
       "      <td>ZINC METAL HEART DECORATION</td>\n",
       "      <td>12</td>\n",
       "      <td>7/1/11 8:16</td>\n",
       "      <td>1.25</td>\n",
       "      <td>16317.0</td>\n",
       "    </tr>\n",
       "    <tr>\n",
       "      <th>1</th>\n",
       "      <td>558638</td>\n",
       "      <td>HANGING JAM JAR T-LIGHT HOLDER</td>\n",
       "      <td>24</td>\n",
       "      <td>7/1/11 8:16</td>\n",
       "      <td>0.85</td>\n",
       "      <td>16317.0</td>\n",
       "    </tr>\n",
       "    <tr>\n",
       "      <th>2</th>\n",
       "      <td>558638</td>\n",
       "      <td>LANTERN CREAM GAZEBO</td>\n",
       "      <td>3</td>\n",
       "      <td>7/1/11 8:16</td>\n",
       "      <td>4.95</td>\n",
       "      <td>16317.0</td>\n",
       "    </tr>\n",
       "    <tr>\n",
       "      <th>3</th>\n",
       "      <td>558638</td>\n",
       "      <td>ZINC T-LIGHT HOLDER STAR LARGE</td>\n",
       "      <td>12</td>\n",
       "      <td>7/1/11 8:16</td>\n",
       "      <td>0.95</td>\n",
       "      <td>16317.0</td>\n",
       "    </tr>\n",
       "    <tr>\n",
       "      <th>4</th>\n",
       "      <td>558638</td>\n",
       "      <td>FRENCH TOILET SIGN BLUE METAL</td>\n",
       "      <td>12</td>\n",
       "      <td>7/1/11 8:16</td>\n",
       "      <td>1.25</td>\n",
       "      <td>16317.0</td>\n",
       "    </tr>\n",
       "    <tr>\n",
       "      <th>5</th>\n",
       "      <td>558638</td>\n",
       "      <td>POTTERING IN THE SHED METAL SIGN</td>\n",
       "      <td>12</td>\n",
       "      <td>7/1/11 8:16</td>\n",
       "      <td>2.08</td>\n",
       "      <td>16317.0</td>\n",
       "    </tr>\n",
       "    <tr>\n",
       "      <th>6</th>\n",
       "      <td>558638</td>\n",
       "      <td>METAL SIGN TAKE IT OR LEAVE IT</td>\n",
       "      <td>6</td>\n",
       "      <td>7/1/11 8:16</td>\n",
       "      <td>2.95</td>\n",
       "      <td>16317.0</td>\n",
       "    </tr>\n",
       "    <tr>\n",
       "      <th>7</th>\n",
       "      <td>558638</td>\n",
       "      <td>ALARM CLOCK BAKELIKE GREEN</td>\n",
       "      <td>4</td>\n",
       "      <td>7/1/11 8:16</td>\n",
       "      <td>3.75</td>\n",
       "      <td>16317.0</td>\n",
       "    </tr>\n",
       "    <tr>\n",
       "      <th>8</th>\n",
       "      <td>558638</td>\n",
       "      <td>DRAWER KNOB CRACKLE GLAZE IVORY</td>\n",
       "      <td>18</td>\n",
       "      <td>7/1/11 8:16</td>\n",
       "      <td>1.65</td>\n",
       "      <td>16317.0</td>\n",
       "    </tr>\n",
       "    <tr>\n",
       "      <th>9</th>\n",
       "      <td>558638</td>\n",
       "      <td>VINTAGE RED ENAMEL TRIM MUG</td>\n",
       "      <td>12</td>\n",
       "      <td>7/1/11 8:16</td>\n",
       "      <td>1.25</td>\n",
       "      <td>16317.0</td>\n",
       "    </tr>\n",
       "  </tbody>\n",
       "</table>\n",
       "</div>"
      ],
      "text/plain": [
       "   BillNo                          Itemname  Quantity         Date  Price  \\\n",
       "0  558638       ZINC METAL HEART DECORATION        12  7/1/11 8:16   1.25   \n",
       "1  558638    HANGING JAM JAR T-LIGHT HOLDER        24  7/1/11 8:16   0.85   \n",
       "2  558638              LANTERN CREAM GAZEBO         3  7/1/11 8:16   4.95   \n",
       "3  558638    ZINC T-LIGHT HOLDER STAR LARGE        12  7/1/11 8:16   0.95   \n",
       "4  558638     FRENCH TOILET SIGN BLUE METAL        12  7/1/11 8:16   1.25   \n",
       "5  558638  POTTERING IN THE SHED METAL SIGN        12  7/1/11 8:16   2.08   \n",
       "6  558638    METAL SIGN TAKE IT OR LEAVE IT         6  7/1/11 8:16   2.95   \n",
       "7  558638        ALARM CLOCK BAKELIKE GREEN         4  7/1/11 8:16   3.75   \n",
       "8  558638   DRAWER KNOB CRACKLE GLAZE IVORY        18  7/1/11 8:16   1.65   \n",
       "9  558638       VINTAGE RED ENAMEL TRIM MUG        12  7/1/11 8:16   1.25   \n",
       "\n",
       "   CustomerID  \n",
       "0     16317.0  \n",
       "1     16317.0  \n",
       "2     16317.0  \n",
       "3     16317.0  \n",
       "4     16317.0  \n",
       "5     16317.0  \n",
       "6     16317.0  \n",
       "7     16317.0  \n",
       "8     16317.0  \n",
       "9     16317.0  "
      ]
     },
     "execution_count": 723,
     "metadata": {},
     "output_type": "execute_result"
    }
   ],
   "source": [
    "# Read the CSV file named \"data.csv\" into a Pandas dataframe and assign it to the variable 'df'\n",
    "df = pd.read_csv(\"data.csv\")\n",
    "\n",
    "# Display the first 10 rows of the dataframe to provide an initial view of the data\n",
    "df.head(10)\n"
   ]
  },
  {
   "cell_type": "code",
   "execution_count": 724,
   "metadata": {},
   "outputs": [
    {
     "name": "stdout",
     "output_type": "stream",
     "text": [
      "<class 'pandas.core.frame.DataFrame'>\n",
      "RangeIndex: 110813 entries, 0 to 110812\n",
      "Data columns (total 6 columns):\n",
      " #   Column      Non-Null Count   Dtype  \n",
      "---  ------      --------------   -----  \n",
      " 0   BillNo      110813 non-null  object \n",
      " 1   Itemname    110477 non-null  object \n",
      " 2   Quantity    110813 non-null  int64  \n",
      " 3   Date        110813 non-null  object \n",
      " 4   Price       110813 non-null  float64\n",
      " 5   CustomerID  82340 non-null   float64\n",
      "dtypes: float64(2), int64(1), object(3)\n",
      "memory usage: 5.1+ MB\n"
     ]
    }
   ],
   "source": [
    "# Display information about the dataframe 'df'\n",
    "df.info()"
   ]
  },
  {
   "cell_type": "markdown",
   "metadata": {},
   "source": [
    "DATA CLEANING"
   ]
  },
  {
   "cell_type": "code",
   "execution_count": 725,
   "metadata": {},
   "outputs": [
    {
     "name": "stdout",
     "output_type": "stream",
     "text": [
      "Size Before Removing Duplicates (110813, 6)\n",
      "Total Number of Duplicates 821\n",
      "Size After Removing Duplicates (109992, 6)\n"
     ]
    }
   ],
   "source": [
    "# Check and print the size of the dataframe before removing duplicates\n",
    "print(\"Size Before Removing Duplicates\", df.shape)\n",
    "\n",
    "# Calculate and print the total number of duplicates in the dataframe\n",
    "total_duplicates = df.duplicated().sum()\n",
    "print('Total Number of Duplicates', total_duplicates)\n",
    "\n",
    "# Remove duplicate rows from the dataframe and update 'df' with the result\n",
    "df = df.drop_duplicates()\n",
    "\n",
    "# Print the size of the dataframe after removing duplicates\n",
    "print(\"Size After Removing Duplicates\", df.shape)\n"
   ]
  },
  {
   "cell_type": "code",
   "execution_count": 726,
   "metadata": {},
   "outputs": [
    {
     "data": {
      "text/plain": [
       "BillNo            0\n",
       "Itemname        336\n",
       "Quantity          0\n",
       "Date              0\n",
       "Price             0\n",
       "CustomerID    28463\n",
       "dtype: int64"
      ]
     },
     "execution_count": 726,
     "metadata": {},
     "output_type": "execute_result"
    }
   ],
   "source": [
    "# Check for missing values in the dataframe and count them for each column.\n",
    "df.isnull().sum()"
   ]
  },
  {
   "cell_type": "code",
   "execution_count": 727,
   "metadata": {},
   "outputs": [],
   "source": [
    "# Dropping the missing values in the 'Itemname' column \n",
    "df = df.dropna(subset='Itemname')"
   ]
  },
  {
   "cell_type": "code",
   "execution_count": 728,
   "metadata": {},
   "outputs": [],
   "source": [
    "# Replace the missing values 'NaN' as 'unknown' \n",
    "df['CustomerID'] = df['CustomerID'].replace(np.nan, 'unknown', regex=True)"
   ]
  },
  {
   "cell_type": "code",
   "execution_count": 729,
   "metadata": {},
   "outputs": [],
   "source": [
    "# Calculate and create a new column 'Sales' by multiplying 'Quantity' and 'Price'\n",
    "df['Sales'] = df['Quantity'] * df['Price']"
   ]
  },
  {
   "cell_type": "code",
   "execution_count": 730,
   "metadata": {},
   "outputs": [
    {
     "data": {
      "text/html": [
       "<div>\n",
       "<style scoped>\n",
       "    .dataframe tbody tr th:only-of-type {\n",
       "        vertical-align: middle;\n",
       "    }\n",
       "\n",
       "    .dataframe tbody tr th {\n",
       "        vertical-align: top;\n",
       "    }\n",
       "\n",
       "    .dataframe thead th {\n",
       "        text-align: right;\n",
       "    }\n",
       "</style>\n",
       "<table border=\"1\" class=\"dataframe\">\n",
       "  <thead>\n",
       "    <tr style=\"text-align: right;\">\n",
       "      <th></th>\n",
       "      <th>BillNo</th>\n",
       "      <th>Itemname</th>\n",
       "      <th>Quantity</th>\n",
       "      <th>Date</th>\n",
       "      <th>Price</th>\n",
       "      <th>CustomerID</th>\n",
       "      <th>Sales</th>\n",
       "    </tr>\n",
       "  </thead>\n",
       "  <tbody>\n",
       "    <tr>\n",
       "      <th>47978</th>\n",
       "      <td>A563186</td>\n",
       "      <td>Adjust bad debt</td>\n",
       "      <td>1</td>\n",
       "      <td>8/12/11 14:51</td>\n",
       "      <td>-11062.06</td>\n",
       "      <td>unknown</td>\n",
       "      <td>-11062.06</td>\n",
       "    </tr>\n",
       "    <tr>\n",
       "      <th>47979</th>\n",
       "      <td>A563187</td>\n",
       "      <td>Adjust bad debt</td>\n",
       "      <td>1</td>\n",
       "      <td>8/12/11 14:52</td>\n",
       "      <td>-11062.06</td>\n",
       "      <td>unknown</td>\n",
       "      <td>-11062.06</td>\n",
       "    </tr>\n",
       "  </tbody>\n",
       "</table>\n",
       "</div>"
      ],
      "text/plain": [
       "        BillNo         Itemname  Quantity           Date     Price CustomerID  \\\n",
       "47978  A563186  Adjust bad debt         1  8/12/11 14:51 -11062.06    unknown   \n",
       "47979  A563187  Adjust bad debt         1  8/12/11 14:52 -11062.06    unknown   \n",
       "\n",
       "          Sales  \n",
       "47978 -11062.06  \n",
       "47979 -11062.06  "
      ]
     },
     "execution_count": 730,
     "metadata": {},
     "output_type": "execute_result"
    }
   ],
   "source": [
    "# Filter the dataframe to select rows where the 'Price' column is less than 0\n",
    "df[df['Price'] < 0]"
   ]
  },
  {
   "cell_type": "code",
   "execution_count": 731,
   "metadata": {},
   "outputs": [
    {
     "data": {
      "text/html": [
       "<div>\n",
       "<style scoped>\n",
       "    .dataframe tbody tr th:only-of-type {\n",
       "        vertical-align: middle;\n",
       "    }\n",
       "\n",
       "    .dataframe tbody tr th {\n",
       "        vertical-align: top;\n",
       "    }\n",
       "\n",
       "    .dataframe thead th {\n",
       "        text-align: right;\n",
       "    }\n",
       "</style>\n",
       "<table border=\"1\" class=\"dataframe\">\n",
       "  <thead>\n",
       "    <tr style=\"text-align: right;\">\n",
       "      <th></th>\n",
       "      <th>BillNo</th>\n",
       "      <th>Itemname</th>\n",
       "      <th>Quantity</th>\n",
       "      <th>Date</th>\n",
       "      <th>Price</th>\n",
       "      <th>CustomerID</th>\n",
       "      <th>Sales</th>\n",
       "    </tr>\n",
       "  </thead>\n",
       "  <tbody>\n",
       "    <tr>\n",
       "      <th>751</th>\n",
       "      <td>558723</td>\n",
       "      <td>damaged</td>\n",
       "      <td>-7</td>\n",
       "      <td>7/1/11 14:28</td>\n",
       "      <td>0.0</td>\n",
       "      <td>unknown</td>\n",
       "      <td>-0.0</td>\n",
       "    </tr>\n",
       "    <tr>\n",
       "      <th>769</th>\n",
       "      <td>558730</td>\n",
       "      <td>damaged</td>\n",
       "      <td>-1</td>\n",
       "      <td>7/1/11 14:51</td>\n",
       "      <td>0.0</td>\n",
       "      <td>unknown</td>\n",
       "      <td>-0.0</td>\n",
       "    </tr>\n",
       "    <tr>\n",
       "      <th>7906</th>\n",
       "      <td>559314</td>\n",
       "      <td>?</td>\n",
       "      <td>-50</td>\n",
       "      <td>7/7/11 13:51</td>\n",
       "      <td>0.0</td>\n",
       "      <td>unknown</td>\n",
       "      <td>-0.0</td>\n",
       "    </tr>\n",
       "    <tr>\n",
       "      <th>9246</th>\n",
       "      <td>559375</td>\n",
       "      <td>?</td>\n",
       "      <td>-300</td>\n",
       "      <td>7/8/11 10:37</td>\n",
       "      <td>0.0</td>\n",
       "      <td>unknown</td>\n",
       "      <td>-0.0</td>\n",
       "    </tr>\n",
       "    <tr>\n",
       "      <th>9249</th>\n",
       "      <td>559378</td>\n",
       "      <td>damages?</td>\n",
       "      <td>-39</td>\n",
       "      <td>7/8/11 10:40</td>\n",
       "      <td>0.0</td>\n",
       "      <td>unknown</td>\n",
       "      <td>-0.0</td>\n",
       "    </tr>\n",
       "    <tr>\n",
       "      <th>...</th>\n",
       "      <td>...</td>\n",
       "      <td>...</td>\n",
       "      <td>...</td>\n",
       "      <td>...</td>\n",
       "      <td>...</td>\n",
       "      <td>...</td>\n",
       "      <td>...</td>\n",
       "    </tr>\n",
       "    <tr>\n",
       "      <th>102766</th>\n",
       "      <td>568401</td>\n",
       "      <td>damages</td>\n",
       "      <td>-35</td>\n",
       "      <td>9/27/11 10:30</td>\n",
       "      <td>0.0</td>\n",
       "      <td>unknown</td>\n",
       "      <td>-0.0</td>\n",
       "    </tr>\n",
       "    <tr>\n",
       "      <th>103073</th>\n",
       "      <td>568442</td>\n",
       "      <td>damages</td>\n",
       "      <td>-131</td>\n",
       "      <td>9/27/11 11:31</td>\n",
       "      <td>0.0</td>\n",
       "      <td>unknown</td>\n",
       "      <td>-0.0</td>\n",
       "    </tr>\n",
       "    <tr>\n",
       "      <th>106732</th>\n",
       "      <td>568724</td>\n",
       "      <td>damages</td>\n",
       "      <td>-21</td>\n",
       "      <td>9/28/11 16:27</td>\n",
       "      <td>0.0</td>\n",
       "      <td>unknown</td>\n",
       "      <td>-0.0</td>\n",
       "    </tr>\n",
       "    <tr>\n",
       "      <th>109729</th>\n",
       "      <td>569098</td>\n",
       "      <td>damages?</td>\n",
       "      <td>-231</td>\n",
       "      <td>9/30/11 12:09</td>\n",
       "      <td>0.0</td>\n",
       "      <td>unknown</td>\n",
       "      <td>-0.0</td>\n",
       "    </tr>\n",
       "    <tr>\n",
       "      <th>110074</th>\n",
       "      <td>569131</td>\n",
       "      <td>damaged</td>\n",
       "      <td>-5</td>\n",
       "      <td>9/30/11 13:49</td>\n",
       "      <td>0.0</td>\n",
       "      <td>unknown</td>\n",
       "      <td>-0.0</td>\n",
       "    </tr>\n",
       "  </tbody>\n",
       "</table>\n",
       "<p>64 rows × 7 columns</p>\n",
       "</div>"
      ],
      "text/plain": [
       "        BillNo  Itemname  Quantity           Date  Price CustomerID  Sales\n",
       "751     558723   damaged        -7   7/1/11 14:28    0.0    unknown   -0.0\n",
       "769     558730   damaged        -1   7/1/11 14:51    0.0    unknown   -0.0\n",
       "7906    559314         ?       -50   7/7/11 13:51    0.0    unknown   -0.0\n",
       "9246    559375         ?      -300   7/8/11 10:37    0.0    unknown   -0.0\n",
       "9249    559378  damages?       -39   7/8/11 10:40    0.0    unknown   -0.0\n",
       "...        ...       ...       ...            ...    ...        ...    ...\n",
       "102766  568401   damages       -35  9/27/11 10:30    0.0    unknown   -0.0\n",
       "103073  568442   damages      -131  9/27/11 11:31    0.0    unknown   -0.0\n",
       "106732  568724   damages       -21  9/28/11 16:27    0.0    unknown   -0.0\n",
       "109729  569098  damages?      -231  9/30/11 12:09    0.0    unknown   -0.0\n",
       "110074  569131   damaged        -5  9/30/11 13:49    0.0    unknown   -0.0\n",
       "\n",
       "[64 rows x 7 columns]"
      ]
     },
     "execution_count": 731,
     "metadata": {},
     "output_type": "execute_result"
    }
   ],
   "source": [
    "# Filter the dataframe to select rows where the 'Quantity' column is less than 0\n",
    "df[df['Quantity'] < 0]"
   ]
  },
  {
   "cell_type": "code",
   "execution_count": 732,
   "metadata": {},
   "outputs": [],
   "source": [
    "# Filter the dataframe to select rows where both 'Price' and 'Quantity' are greater than 0\n",
    "df = df[(df['Price'] > 0) & (df['Quantity'] > 0)]"
   ]
  },
  {
   "cell_type": "code",
   "execution_count": 733,
   "metadata": {},
   "outputs": [
    {
     "data": {
      "text/html": [
       "<div>\n",
       "<style scoped>\n",
       "    .dataframe tbody tr th:only-of-type {\n",
       "        vertical-align: middle;\n",
       "    }\n",
       "\n",
       "    .dataframe tbody tr th {\n",
       "        vertical-align: top;\n",
       "    }\n",
       "\n",
       "    .dataframe thead th {\n",
       "        text-align: right;\n",
       "    }\n",
       "</style>\n",
       "<table border=\"1\" class=\"dataframe\">\n",
       "  <thead>\n",
       "    <tr style=\"text-align: right;\">\n",
       "      <th></th>\n",
       "      <th>BillNo</th>\n",
       "      <th>Itemname</th>\n",
       "      <th>Quantity</th>\n",
       "      <th>Date</th>\n",
       "      <th>Price</th>\n",
       "      <th>CustomerID</th>\n",
       "      <th>Sales</th>\n",
       "    </tr>\n",
       "  </thead>\n",
       "  <tbody>\n",
       "    <tr>\n",
       "      <th>47977</th>\n",
       "      <td>A563185</td>\n",
       "      <td>Adjust bad debt</td>\n",
       "      <td>1</td>\n",
       "      <td>8/12/11 14:50</td>\n",
       "      <td>11062.06</td>\n",
       "      <td>unknown</td>\n",
       "      <td>11062.06</td>\n",
       "    </tr>\n",
       "  </tbody>\n",
       "</table>\n",
       "</div>"
      ],
      "text/plain": [
       "        BillNo         Itemname  Quantity           Date     Price CustomerID  \\\n",
       "47977  A563185  Adjust bad debt         1  8/12/11 14:50  11062.06    unknown   \n",
       "\n",
       "          Sales  \n",
       "47977  11062.06  "
      ]
     },
     "execution_count": 733,
     "metadata": {},
     "output_type": "execute_result"
    }
   ],
   "source": [
    "# Filter the dataframe to select rows where 'BillNo' starts with a letter (either uppercase or lowercase)\n",
    "df[df['BillNo'].str.match(r'^[a-zA-Z]')]"
   ]
  },
  {
   "cell_type": "code",
   "execution_count": 734,
   "metadata": {},
   "outputs": [],
   "source": [
    "# Filter the dataframe to select rows where 'BillNo' does not start with a letter (neither uppercase nor lowercase)\n",
    "df = df[~df['BillNo'].str.match(r'^[a-zA-Z]')]"
   ]
  },
  {
   "cell_type": "code",
   "execution_count": 735,
   "metadata": {},
   "outputs": [],
   "source": [
    "# Convert the 'Date' column to a datetime data type using the Pandas to_datetime() function\n",
    "df[\"Date\"] = pd.to_datetime(df[\"Date\"])"
   ]
  },
  {
   "cell_type": "markdown",
   "metadata": {},
   "source": [
    "BUSINESS ANALYSIS:"
   ]
  },
  {
   "cell_type": "markdown",
   "metadata": {},
   "source": [
    "a. Which product are the top performers? Which products are lagging?"
   ]
  },
  {
   "cell_type": "code",
   "execution_count": 736,
   "metadata": {},
   "outputs": [
    {
     "name": "stdout",
     "output_type": "stream",
     "text": [
      "Top Performing Products:\n"
     ]
    },
    {
     "data": {
      "text/html": [
       "<div>\n",
       "<style scoped>\n",
       "    .dataframe tbody tr th:only-of-type {\n",
       "        vertical-align: middle;\n",
       "    }\n",
       "\n",
       "    .dataframe tbody tr th {\n",
       "        vertical-align: top;\n",
       "    }\n",
       "\n",
       "    .dataframe thead th {\n",
       "        text-align: right;\n",
       "    }\n",
       "</style>\n",
       "<table border=\"1\" class=\"dataframe\">\n",
       "  <thead>\n",
       "    <tr style=\"text-align: right;\">\n",
       "      <th></th>\n",
       "      <th>Itemname</th>\n",
       "      <th>Quantity</th>\n",
       "    </tr>\n",
       "  </thead>\n",
       "  <tbody>\n",
       "    <tr>\n",
       "      <th>1400</th>\n",
       "      <td>JUMBO BAG RED RETROSPOT</td>\n",
       "      <td>11755</td>\n",
       "    </tr>\n",
       "    <tr>\n",
       "      <th>177</th>\n",
       "      <td>ASSORTED COLOUR BIRD ORNAMENT</td>\n",
       "      <td>10926</td>\n",
       "    </tr>\n",
       "    <tr>\n",
       "      <th>2068</th>\n",
       "      <td>POPCORN HOLDER</td>\n",
       "      <td>10604</td>\n",
       "    </tr>\n",
       "    <tr>\n",
       "      <th>3023</th>\n",
       "      <td>WORLD WAR 2 GLIDERS ASSTD DESIGNS</td>\n",
       "      <td>7714</td>\n",
       "    </tr>\n",
       "    <tr>\n",
       "      <th>2959</th>\n",
       "      <td>WHITE HANGING HEART T-LIGHT HOLDER</td>\n",
       "      <td>7296</td>\n",
       "    </tr>\n",
       "  </tbody>\n",
       "</table>\n",
       "</div>"
      ],
      "text/plain": [
       "                                Itemname  Quantity\n",
       "1400             JUMBO BAG RED RETROSPOT     11755\n",
       "177        ASSORTED COLOUR BIRD ORNAMENT     10926\n",
       "2068                      POPCORN HOLDER     10604\n",
       "3023   WORLD WAR 2 GLIDERS ASSTD DESIGNS      7714\n",
       "2959  WHITE HANGING HEART T-LIGHT HOLDER      7296"
      ]
     },
     "execution_count": 736,
     "metadata": {},
     "output_type": "execute_result"
    }
   ],
   "source": [
    "# Group the dataframe by 'Itemname' and calculate the sum of 'Quantity' for each item, then reset the index\n",
    "top_performers = df.groupby('Itemname')['Quantity'].sum().reset_index()\n",
    "\n",
    "# Sort the 'top_performers' dataframe by 'Quantity' in descending order to identify top-performing items\n",
    "top_performers = top_performers.sort_values(by='Quantity', ascending=False) \n",
    "\n",
    "# Display the top-performing products by showing the first few rows of the 'top_performers' dataframe\n",
    "print(\"Top Performing Products:\")\n",
    "top_performers.head()\n"
   ]
  },
  {
   "cell_type": "code",
   "execution_count": 737,
   "metadata": {},
   "outputs": [
    {
     "name": "stdout",
     "output_type": "stream",
     "text": [
      "Lagging Products:\n"
     ]
    },
    {
     "data": {
      "text/html": [
       "<div>\n",
       "<style scoped>\n",
       "    .dataframe tbody tr th:only-of-type {\n",
       "        vertical-align: middle;\n",
       "    }\n",
       "\n",
       "    .dataframe tbody tr th {\n",
       "        vertical-align: top;\n",
       "    }\n",
       "\n",
       "    .dataframe thead th {\n",
       "        text-align: right;\n",
       "    }\n",
       "</style>\n",
       "<table border=\"1\" class=\"dataframe\">\n",
       "  <thead>\n",
       "    <tr style=\"text-align: right;\">\n",
       "      <th></th>\n",
       "      <th>Itemname</th>\n",
       "      <th>Quantity</th>\n",
       "    </tr>\n",
       "  </thead>\n",
       "  <tbody>\n",
       "    <tr>\n",
       "      <th>2582</th>\n",
       "      <td>SILVER ROCCOCO CHANDELIER</td>\n",
       "      <td>1</td>\n",
       "    </tr>\n",
       "    <tr>\n",
       "      <th>2338</th>\n",
       "      <td>SCHOOL DESK AND CHAIR</td>\n",
       "      <td>1</td>\n",
       "    </tr>\n",
       "    <tr>\n",
       "      <th>2354</th>\n",
       "      <td>SET 10 CARDS MAGICAL TREE 17086</td>\n",
       "      <td>1</td>\n",
       "    </tr>\n",
       "    <tr>\n",
       "      <th>624</th>\n",
       "      <td>CHUNKY CRACKED GLAZE NECKLACE IVORY</td>\n",
       "      <td>1</td>\n",
       "    </tr>\n",
       "    <tr>\n",
       "      <th>2098</th>\n",
       "      <td>PURPLE GEMSTONE BRACELET</td>\n",
       "      <td>1</td>\n",
       "    </tr>\n",
       "  </tbody>\n",
       "</table>\n",
       "</div>"
      ],
      "text/plain": [
       "                                 Itemname  Quantity\n",
       "2582            SILVER ROCCOCO CHANDELIER         1\n",
       "2338                SCHOOL DESK AND CHAIR         1\n",
       "2354      SET 10 CARDS MAGICAL TREE 17086         1\n",
       "624   CHUNKY CRACKED GLAZE NECKLACE IVORY         1\n",
       "2098             PURPLE GEMSTONE BRACELET         1"
      ]
     },
     "execution_count": 737,
     "metadata": {},
     "output_type": "execute_result"
    }
   ],
   "source": [
    "# Sort the 'top_performers' dataframe by 'Quantity' in ascending order to identify lagging products\n",
    "top_performers = top_performers.sort_values(by='Quantity', ascending=True)\n",
    "\n",
    "# Display the lagging products by showing the first few rows of the sorted 'top_performers' dataframe\n",
    "print(\"Lagging Products:\")\n",
    "top_performers.head()"
   ]
  },
  {
   "cell_type": "markdown",
   "metadata": {},
   "source": [
    "b. The business has a hunch that certain products sell better at specific times of the year or maybe even days of the week. Using the data, validate this hunch."
   ]
  },
  {
   "cell_type": "code",
   "execution_count": 738,
   "metadata": {},
   "outputs": [],
   "source": [
    "# Extract the month from the 'Date' column and create a new column 'Month' to store it\n",
    "df['Month'] = df['Date'].dt.month\n",
    "\n",
    "# Extract the day of the week (e.g., Monday, Tuesday) from the 'Date' column and create a new column 'day_of_week' to store it\n",
    "df['day_of_week'] = df['Date'].dt.day_name()\n",
    "\n",
    "# Extract the day of the month from the 'Date' column and create a new column 'Day' to store it\n",
    "df['Day'] = df['Date'].dt.day"
   ]
  },
  {
   "cell_type": "code",
   "execution_count": 739,
   "metadata": {},
   "outputs": [
    {
     "data": {
      "text/html": [
       "<div>\n",
       "<style scoped>\n",
       "    .dataframe tbody tr th:only-of-type {\n",
       "        vertical-align: middle;\n",
       "    }\n",
       "\n",
       "    .dataframe tbody tr th {\n",
       "        vertical-align: top;\n",
       "    }\n",
       "\n",
       "    .dataframe thead th {\n",
       "        text-align: right;\n",
       "    }\n",
       "</style>\n",
       "<table border=\"1\" class=\"dataframe\">\n",
       "  <thead>\n",
       "    <tr style=\"text-align: right;\">\n",
       "      <th></th>\n",
       "      <th>Itemname</th>\n",
       "      <th>Month</th>\n",
       "      <th>Quantity</th>\n",
       "    </tr>\n",
       "  </thead>\n",
       "  <tbody>\n",
       "    <tr>\n",
       "      <th>0</th>\n",
       "      <td>ASSORTED COLOUR BIRD ORNAMENT</td>\n",
       "      <td>8</td>\n",
       "      <td>6489</td>\n",
       "    </tr>\n",
       "    <tr>\n",
       "      <th>1</th>\n",
       "      <td>POPCORN HOLDER</td>\n",
       "      <td>8</td>\n",
       "      <td>5135</td>\n",
       "    </tr>\n",
       "    <tr>\n",
       "      <th>2</th>\n",
       "      <td>JUMBO BAG RED RETROSPOT</td>\n",
       "      <td>8</td>\n",
       "      <td>4648</td>\n",
       "    </tr>\n",
       "    <tr>\n",
       "      <th>3</th>\n",
       "      <td>JUMBO BAG RED RETROSPOT</td>\n",
       "      <td>9</td>\n",
       "      <td>4059</td>\n",
       "    </tr>\n",
       "    <tr>\n",
       "      <th>4</th>\n",
       "      <td>POPCORN HOLDER</td>\n",
       "      <td>9</td>\n",
       "      <td>3756</td>\n",
       "    </tr>\n",
       "    <tr>\n",
       "      <th>5</th>\n",
       "      <td>GIRLS ALPHABET IRON ON PATCHES</td>\n",
       "      <td>7</td>\n",
       "      <td>3579</td>\n",
       "    </tr>\n",
       "    <tr>\n",
       "      <th>6</th>\n",
       "      <td>ASSORTED COLOURS SILK FAN</td>\n",
       "      <td>7</td>\n",
       "      <td>3462</td>\n",
       "    </tr>\n",
       "    <tr>\n",
       "      <th>7</th>\n",
       "      <td>ESSENTIAL BALM 3.5g TIN IN ENVELOPE</td>\n",
       "      <td>7</td>\n",
       "      <td>3207</td>\n",
       "    </tr>\n",
       "    <tr>\n",
       "      <th>8</th>\n",
       "      <td>JUMBO BAG RED RETROSPOT</td>\n",
       "      <td>7</td>\n",
       "      <td>3048</td>\n",
       "    </tr>\n",
       "    <tr>\n",
       "      <th>9</th>\n",
       "      <td>WHITE HANGING HEART T-LIGHT HOLDER</td>\n",
       "      <td>7</td>\n",
       "      <td>2943</td>\n",
       "    </tr>\n",
       "  </tbody>\n",
       "</table>\n",
       "</div>"
      ],
      "text/plain": [
       "                              Itemname  Month  Quantity\n",
       "0        ASSORTED COLOUR BIRD ORNAMENT      8      6489\n",
       "1                       POPCORN HOLDER      8      5135\n",
       "2              JUMBO BAG RED RETROSPOT      8      4648\n",
       "3              JUMBO BAG RED RETROSPOT      9      4059\n",
       "4                       POPCORN HOLDER      9      3756\n",
       "5       GIRLS ALPHABET IRON ON PATCHES      7      3579\n",
       "6            ASSORTED COLOURS SILK FAN      7      3462\n",
       "7  ESSENTIAL BALM 3.5g TIN IN ENVELOPE      7      3207\n",
       "8              JUMBO BAG RED RETROSPOT      7      3048\n",
       "9   WHITE HANGING HEART T-LIGHT HOLDER      7      2943"
      ]
     },
     "execution_count": 739,
     "metadata": {},
     "output_type": "execute_result"
    }
   ],
   "source": [
    "# Group the dataframe by 'Itemname' and 'Month', then calculate the sum of 'Quantity' for each combination\n",
    "# Sort the result in descending order based on 'Quantity' and reset the index\n",
    "monthly_sales = df.groupby(['Itemname', 'Month'])['Quantity'].sum().sort_values(ascending=False).reset_index()\n",
    "\n",
    "# Display the top 10 rows of the 'monthly_sales' dataframe\n",
    "monthly_sales.head(10)\n"
   ]
  },
  {
   "cell_type": "code",
   "execution_count": 740,
   "metadata": {},
   "outputs": [
    {
     "data": {
      "text/plain": [
       "Month\n",
       "7    1725\n",
       "8    6489\n",
       "9    2712\n",
       "Name: Quantity, dtype: int64"
      ]
     },
     "execution_count": 740,
     "metadata": {},
     "output_type": "execute_result"
    }
   ],
   "source": [
    "# Filter the dataframe to select rows where 'Itemname' is 'ASSORTED COLOUR BIRD ORNAMENT'\n",
    "product = df[df['Itemname'] == 'ASSORTED COLOUR BIRD ORNAMENT']\n",
    "\n",
    "# Group the filtered dataframe by 'Month' and calculate the sum of 'Quantity' for each month\n",
    "# Sort the result by 'Month' index\n",
    "product_msales = product.groupby('Month')['Quantity'].sum().sort_index()\n",
    "\n",
    "# Display the monthly sales for the selected product\n",
    "product_msales\n"
   ]
  },
  {
   "cell_type": "code",
   "execution_count": 741,
   "metadata": {},
   "outputs": [
    {
     "data": {
      "text/plain": [
       "day_of_week\n",
       "Thursday     6250\n",
       "Monday       1156\n",
       "Tuesday       912\n",
       "Wednesday     910\n",
       "Friday        874\n",
       "Sunday        824\n",
       "Name: Quantity, dtype: int64"
      ]
     },
     "execution_count": 741,
     "metadata": {},
     "output_type": "execute_result"
    }
   ],
   "source": [
    "# Group the filtered 'product' dataframe by 'day_of_week' and calculate the sum of 'Quantity' for each day of the week\n",
    "# Sort the result in descending order based on sales quantity\n",
    "product_wsales = product.groupby('day_of_week')['Quantity'].sum().sort_values(ascending=False)\n",
    "\n",
    "# Display the weekly sales for the selected product\n",
    "product_wsales\n"
   ]
  },
  {
   "cell_type": "markdown",
   "metadata": {},
   "source": [
    "product name = \"ASSORTED COLOUR BIRD ORNAMENT' \n",
    "Highly saled by month = 'Aug' \n",
    "Highly saled by days of the week = 'Thursday'"
   ]
  },
  {
   "cell_type": "markdown",
   "metadata": {},
   "source": [
    "c. Are there products that were once best-sellers but have seen a decrease in sales recently?"
   ]
  },
  {
   "cell_type": "code",
   "execution_count": 742,
   "metadata": {},
   "outputs": [
    {
     "data": {
      "text/html": [
       "<div>\n",
       "<style scoped>\n",
       "    .dataframe tbody tr th:only-of-type {\n",
       "        vertical-align: middle;\n",
       "    }\n",
       "\n",
       "    .dataframe tbody tr th {\n",
       "        vertical-align: top;\n",
       "    }\n",
       "\n",
       "    .dataframe thead th {\n",
       "        text-align: right;\n",
       "    }\n",
       "</style>\n",
       "<table border=\"1\" class=\"dataframe\">\n",
       "  <thead>\n",
       "    <tr style=\"text-align: right;\">\n",
       "      <th></th>\n",
       "      <th>Itemname</th>\n",
       "      <th>Month</th>\n",
       "      <th>Quantity</th>\n",
       "    </tr>\n",
       "  </thead>\n",
       "  <tbody>\n",
       "    <tr>\n",
       "      <th>0</th>\n",
       "      <td>ASSORTED COLOUR BIRD ORNAMENT</td>\n",
       "      <td>8</td>\n",
       "      <td>6489</td>\n",
       "    </tr>\n",
       "    <tr>\n",
       "      <th>1</th>\n",
       "      <td>POPCORN HOLDER</td>\n",
       "      <td>8</td>\n",
       "      <td>5135</td>\n",
       "    </tr>\n",
       "    <tr>\n",
       "      <th>2</th>\n",
       "      <td>JUMBO BAG RED RETROSPOT</td>\n",
       "      <td>8</td>\n",
       "      <td>4648</td>\n",
       "    </tr>\n",
       "    <tr>\n",
       "      <th>3</th>\n",
       "      <td>JUMBO BAG RED RETROSPOT</td>\n",
       "      <td>9</td>\n",
       "      <td>4059</td>\n",
       "    </tr>\n",
       "    <tr>\n",
       "      <th>4</th>\n",
       "      <td>POPCORN HOLDER</td>\n",
       "      <td>9</td>\n",
       "      <td>3756</td>\n",
       "    </tr>\n",
       "    <tr>\n",
       "      <th>5</th>\n",
       "      <td>GIRLS ALPHABET IRON ON PATCHES</td>\n",
       "      <td>7</td>\n",
       "      <td>3579</td>\n",
       "    </tr>\n",
       "    <tr>\n",
       "      <th>6</th>\n",
       "      <td>ASSORTED COLOURS SILK FAN</td>\n",
       "      <td>7</td>\n",
       "      <td>3462</td>\n",
       "    </tr>\n",
       "    <tr>\n",
       "      <th>7</th>\n",
       "      <td>ESSENTIAL BALM 3.5g TIN IN ENVELOPE</td>\n",
       "      <td>7</td>\n",
       "      <td>3207</td>\n",
       "    </tr>\n",
       "    <tr>\n",
       "      <th>8</th>\n",
       "      <td>JUMBO BAG RED RETROSPOT</td>\n",
       "      <td>7</td>\n",
       "      <td>3048</td>\n",
       "    </tr>\n",
       "    <tr>\n",
       "      <th>9</th>\n",
       "      <td>WHITE HANGING HEART T-LIGHT HOLDER</td>\n",
       "      <td>7</td>\n",
       "      <td>2943</td>\n",
       "    </tr>\n",
       "  </tbody>\n",
       "</table>\n",
       "</div>"
      ],
      "text/plain": [
       "                              Itemname  Month  Quantity\n",
       "0        ASSORTED COLOUR BIRD ORNAMENT      8      6489\n",
       "1                       POPCORN HOLDER      8      5135\n",
       "2              JUMBO BAG RED RETROSPOT      8      4648\n",
       "3              JUMBO BAG RED RETROSPOT      9      4059\n",
       "4                       POPCORN HOLDER      9      3756\n",
       "5       GIRLS ALPHABET IRON ON PATCHES      7      3579\n",
       "6            ASSORTED COLOURS SILK FAN      7      3462\n",
       "7  ESSENTIAL BALM 3.5g TIN IN ENVELOPE      7      3207\n",
       "8              JUMBO BAG RED RETROSPOT      7      3048\n",
       "9   WHITE HANGING HEART T-LIGHT HOLDER      7      2943"
      ]
     },
     "execution_count": 742,
     "metadata": {},
     "output_type": "execute_result"
    }
   ],
   "source": [
    "# Group the dataframe by 'Itemname' and 'Month', then calculate the sum of 'Quantity' for each combination\n",
    "# Sort the result in descending order based on 'Quantity' and reset the index\n",
    "# Display the top 10 rows of the resulting dataframe\n",
    "\n",
    "df.groupby(['Itemname', 'Month'])['Quantity'].sum().sort_values(ascending=False).reset_index().head(10)\n"
   ]
  },
  {
   "cell_type": "code",
   "execution_count": 743,
   "metadata": {},
   "outputs": [
    {
     "data": {
      "text/plain": [
       "Month\n",
       "7    3579\n",
       "8     179\n",
       "9    1550\n",
       "Name: Quantity, dtype: int64"
      ]
     },
     "execution_count": 743,
     "metadata": {},
     "output_type": "execute_result"
    }
   ],
   "source": [
    "# Filter the dataframe to select rows where 'Itemname' is 'GIRLS ALPHABET IRON ON PATCHES'\n",
    "high_to_low = df[df['Itemname'] == 'GIRLS ALPHABET IRON ON PATCHES']\n",
    "\n",
    "# Group the filtered dataframe by 'Month' and calculate the sum of 'Quantity' for each month\n",
    "monthly_quantity = high_to_low.groupby('Month')['Quantity'].sum()\n",
    "\n",
    "# Display the monthly sales quantities for the selected product\n",
    "monthly_quantity\n"
   ]
  },
  {
   "cell_type": "code",
   "execution_count": 744,
   "metadata": {},
   "outputs": [
    {
     "data": {
      "text/plain": [
       "Month\n",
       "7    3462\n",
       "8     707\n",
       "9     391\n",
       "Name: Quantity, dtype: int64"
      ]
     },
     "execution_count": 744,
     "metadata": {},
     "output_type": "execute_result"
    }
   ],
   "source": [
    "# Filter the dataframe to select rows where 'Itemname' is 'ASSORTED COLOURS SILK FAN'\n",
    "high_to_low = df[df['Itemname'] == 'ASSORTED COLOURS SILK FAN']\n",
    "\n",
    "# Group the filtered dataframe by 'Month' and calculate the sum of 'Quantity' for each month\n",
    "monthly_quantity = high_to_low.groupby('Month')['Quantity'].sum()\n",
    "\n",
    "# Display the monthly sales quantities for the selected product\n",
    "monthly_quantity\n"
   ]
  },
  {
   "cell_type": "markdown",
   "metadata": {},
   "source": [
    "Two products, 'GIRLS ALPHABET IRON ON PATCHES' and 'ASSORTED COLOURS SILK FAN,' which were previously best-sellers, have exhibited a decrease in sales recently"
   ]
  },
  {
   "cell_type": "markdown",
   "metadata": {},
   "source": [
    "d. Identify the most common products that are bought together. Can you find any product pairs or combinations?"
   ]
  },
  {
   "cell_type": "code",
   "execution_count": 745,
   "metadata": {},
   "outputs": [
    {
     "data": {
      "text/html": [
       "<div>\n",
       "<style scoped>\n",
       "    .dataframe tbody tr th:only-of-type {\n",
       "        vertical-align: middle;\n",
       "    }\n",
       "\n",
       "    .dataframe tbody tr th {\n",
       "        vertical-align: top;\n",
       "    }\n",
       "\n",
       "    .dataframe thead th {\n",
       "        text-align: right;\n",
       "    }\n",
       "</style>\n",
       "<table border=\"1\" class=\"dataframe\">\n",
       "  <thead>\n",
       "    <tr style=\"text-align: right;\">\n",
       "      <th></th>\n",
       "      <th>Pr-1</th>\n",
       "      <th>Pr-2</th>\n",
       "      <th>Frequency</th>\n",
       "    </tr>\n",
       "  </thead>\n",
       "  <tbody>\n",
       "    <tr>\n",
       "      <th>931972</th>\n",
       "      <td>JUMBO BAG APPLES</td>\n",
       "      <td>JUMBO BAG RED RETROSPOT</td>\n",
       "      <td>146</td>\n",
       "    </tr>\n",
       "    <tr>\n",
       "      <th>942833</th>\n",
       "      <td>JUMBO BAG PINK POLKADOT</td>\n",
       "      <td>JUMBO BAG RED RETROSPOT</td>\n",
       "      <td>141</td>\n",
       "    </tr>\n",
       "    <tr>\n",
       "      <th>1057317</th>\n",
       "      <td>LUNCH BAG RED RETROSPOT</td>\n",
       "      <td>LUNCH BAG  BLACK SKULL.</td>\n",
       "      <td>128</td>\n",
       "    </tr>\n",
       "    <tr>\n",
       "      <th>967863</th>\n",
       "      <td>JUMBO STORAGE BAG SUKI</td>\n",
       "      <td>JUMBO BAG RED RETROSPOT</td>\n",
       "      <td>126</td>\n",
       "    </tr>\n",
       "    <tr>\n",
       "      <th>1061463</th>\n",
       "      <td>LUNCH BAG SUKI DESIGN</td>\n",
       "      <td>LUNCH BAG APPLE DESIGN</td>\n",
       "      <td>123</td>\n",
       "    </tr>\n",
       "    <tr>\n",
       "      <th>963840</th>\n",
       "      <td>JUMBO SHOPPER VINTAGE RED PAISLEY</td>\n",
       "      <td>JUMBO BAG RED RETROSPOT</td>\n",
       "      <td>120</td>\n",
       "    </tr>\n",
       "    <tr>\n",
       "      <th>1900057</th>\n",
       "      <td>SPOTTY BUNTING</td>\n",
       "      <td>PARTY BUNTING</td>\n",
       "      <td>119</td>\n",
       "    </tr>\n",
       "    <tr>\n",
       "      <th>1059400</th>\n",
       "      <td>LUNCH BAG SPACEBOY DESIGN</td>\n",
       "      <td>LUNCH BAG SUKI DESIGN</td>\n",
       "      <td>117</td>\n",
       "    </tr>\n",
       "    <tr>\n",
       "      <th>967855</th>\n",
       "      <td>JUMBO STORAGE BAG SUKI</td>\n",
       "      <td>JUMBO BAG APPLES</td>\n",
       "      <td>117</td>\n",
       "    </tr>\n",
       "    <tr>\n",
       "      <th>1057323</th>\n",
       "      <td>LUNCH BAG RED RETROSPOT</td>\n",
       "      <td>LUNCH BAG PINK POLKADOT</td>\n",
       "      <td>114</td>\n",
       "    </tr>\n",
       "    <tr>\n",
       "      <th>1057326</th>\n",
       "      <td>LUNCH BAG RED RETROSPOT</td>\n",
       "      <td>LUNCH BAG SUKI DESIGN</td>\n",
       "      <td>114</td>\n",
       "    </tr>\n",
       "    <tr>\n",
       "      <th>1057319</th>\n",
       "      <td>LUNCH BAG RED RETROSPOT</td>\n",
       "      <td>LUNCH BAG APPLE DESIGN</td>\n",
       "      <td>113</td>\n",
       "    </tr>\n",
       "    <tr>\n",
       "      <th>1044248</th>\n",
       "      <td>LUNCH BAG  BLACK SKULL.</td>\n",
       "      <td>LUNCH BAG SUKI DESIGN</td>\n",
       "      <td>113</td>\n",
       "    </tr>\n",
       "    <tr>\n",
       "      <th>1059394</th>\n",
       "      <td>LUNCH BAG SPACEBOY DESIGN</td>\n",
       "      <td>LUNCH BAG APPLE DESIGN</td>\n",
       "      <td>111</td>\n",
       "    </tr>\n",
       "    <tr>\n",
       "      <th>1057320</th>\n",
       "      <td>LUNCH BAG RED RETROSPOT</td>\n",
       "      <td>LUNCH BAG CARS BLUE</td>\n",
       "      <td>109</td>\n",
       "    </tr>\n",
       "  </tbody>\n",
       "</table>\n",
       "</div>"
      ],
      "text/plain": [
       "                                      Pr-1                     Pr-2  Frequency\n",
       "931972                    JUMBO BAG APPLES  JUMBO BAG RED RETROSPOT        146\n",
       "942833             JUMBO BAG PINK POLKADOT  JUMBO BAG RED RETROSPOT        141\n",
       "1057317            LUNCH BAG RED RETROSPOT  LUNCH BAG  BLACK SKULL.        128\n",
       "967863              JUMBO STORAGE BAG SUKI  JUMBO BAG RED RETROSPOT        126\n",
       "1061463              LUNCH BAG SUKI DESIGN   LUNCH BAG APPLE DESIGN        123\n",
       "963840   JUMBO SHOPPER VINTAGE RED PAISLEY  JUMBO BAG RED RETROSPOT        120\n",
       "1900057                     SPOTTY BUNTING            PARTY BUNTING        119\n",
       "1059400          LUNCH BAG SPACEBOY DESIGN    LUNCH BAG SUKI DESIGN        117\n",
       "967855              JUMBO STORAGE BAG SUKI         JUMBO BAG APPLES        117\n",
       "1057323            LUNCH BAG RED RETROSPOT  LUNCH BAG PINK POLKADOT        114\n",
       "1057326            LUNCH BAG RED RETROSPOT    LUNCH BAG SUKI DESIGN        114\n",
       "1057319            LUNCH BAG RED RETROSPOT   LUNCH BAG APPLE DESIGN        113\n",
       "1044248            LUNCH BAG  BLACK SKULL.    LUNCH BAG SUKI DESIGN        113\n",
       "1059394          LUNCH BAG SPACEBOY DESIGN   LUNCH BAG APPLE DESIGN        111\n",
       "1057320            LUNCH BAG RED RETROSPOT      LUNCH BAG CARS BLUE        109"
      ]
     },
     "execution_count": 745,
     "metadata": {},
     "output_type": "execute_result"
    }
   ],
   "source": [
    "# Assuming your DataFrame is named df_new\n",
    "df_new = df[['BillNo', 'Itemname', 'CustomerID']]\n",
    "\n",
    "# Group the dataframe by 'BillNo' and 'CustomerID', aggregating the 'Itemname' as a list\n",
    "grouped = df_new.groupby(['BillNo', 'CustomerID'])['Itemname'].agg(list).reset_index()\n",
    "\n",
    "# Create a function to find pairs within a list of items\n",
    "def find_pairs(item_list):\n",
    "    pairs = []\n",
    "    for i in range(len(item_list)):\n",
    "        for j in range(i + 1, len(item_list)):\n",
    "            pairs.append((item_list[i], item_list[j]))\n",
    "    return pairs\n",
    "\n",
    "# Apply the function to find pairs within each group and create a new 'Pairs' column\n",
    "grouped['Pairs'] = grouped['Itemname'].apply(find_pairs)\n",
    "\n",
    "# Flatten the list of pairs\n",
    "all_pairs = [pair for pairs in grouped['Pairs'] for pair in pairs]\n",
    "\n",
    "# Create a DataFrame to count the frequency of pairs\n",
    "pair_counts = pd.DataFrame(all_pairs, columns=['Pr-1', 'Pr-2'])\n",
    "pair_counts['Frequency'] = 1\n",
    "pair_counts = pair_counts.groupby(['Pr-1', 'Pr-2'])['Frequency'].sum().reset_index()\n",
    "\n",
    "# Get the top 20 most frequent product pairs\n",
    "top_pairs = pair_counts.sort_values(by='Frequency', ascending=False).head(15)\n",
    "\n",
    "# Display the top pairs\n",
    "top_pairs\n"
   ]
  },
  {
   "cell_type": "markdown",
   "metadata": {},
   "source": [
    "e. Which are the top 10 most frequent product baskets?"
   ]
  },
  {
   "cell_type": "code",
   "execution_count": 746,
   "metadata": {},
   "outputs": [
    {
     "data": {
      "text/html": [
       "<div>\n",
       "<style scoped>\n",
       "    .dataframe tbody tr th:only-of-type {\n",
       "        vertical-align: middle;\n",
       "    }\n",
       "\n",
       "    .dataframe tbody tr th {\n",
       "        vertical-align: top;\n",
       "    }\n",
       "\n",
       "    .dataframe thead th {\n",
       "        text-align: right;\n",
       "    }\n",
       "</style>\n",
       "<table border=\"1\" class=\"dataframe\">\n",
       "  <thead>\n",
       "    <tr style=\"text-align: right;\">\n",
       "      <th></th>\n",
       "      <th>Pr-1</th>\n",
       "      <th>Pr-2</th>\n",
       "      <th>Frequency</th>\n",
       "    </tr>\n",
       "  </thead>\n",
       "  <tbody>\n",
       "    <tr>\n",
       "      <th>931972</th>\n",
       "      <td>JUMBO BAG APPLES</td>\n",
       "      <td>JUMBO BAG RED RETROSPOT</td>\n",
       "      <td>146</td>\n",
       "    </tr>\n",
       "    <tr>\n",
       "      <th>942833</th>\n",
       "      <td>JUMBO BAG PINK POLKADOT</td>\n",
       "      <td>JUMBO BAG RED RETROSPOT</td>\n",
       "      <td>141</td>\n",
       "    </tr>\n",
       "    <tr>\n",
       "      <th>1057317</th>\n",
       "      <td>LUNCH BAG RED RETROSPOT</td>\n",
       "      <td>LUNCH BAG  BLACK SKULL.</td>\n",
       "      <td>128</td>\n",
       "    </tr>\n",
       "    <tr>\n",
       "      <th>967863</th>\n",
       "      <td>JUMBO STORAGE BAG SUKI</td>\n",
       "      <td>JUMBO BAG RED RETROSPOT</td>\n",
       "      <td>126</td>\n",
       "    </tr>\n",
       "    <tr>\n",
       "      <th>1061463</th>\n",
       "      <td>LUNCH BAG SUKI DESIGN</td>\n",
       "      <td>LUNCH BAG APPLE DESIGN</td>\n",
       "      <td>123</td>\n",
       "    </tr>\n",
       "    <tr>\n",
       "      <th>963840</th>\n",
       "      <td>JUMBO SHOPPER VINTAGE RED PAISLEY</td>\n",
       "      <td>JUMBO BAG RED RETROSPOT</td>\n",
       "      <td>120</td>\n",
       "    </tr>\n",
       "    <tr>\n",
       "      <th>1900057</th>\n",
       "      <td>SPOTTY BUNTING</td>\n",
       "      <td>PARTY BUNTING</td>\n",
       "      <td>119</td>\n",
       "    </tr>\n",
       "    <tr>\n",
       "      <th>1059400</th>\n",
       "      <td>LUNCH BAG SPACEBOY DESIGN</td>\n",
       "      <td>LUNCH BAG SUKI DESIGN</td>\n",
       "      <td>117</td>\n",
       "    </tr>\n",
       "    <tr>\n",
       "      <th>967855</th>\n",
       "      <td>JUMBO STORAGE BAG SUKI</td>\n",
       "      <td>JUMBO BAG APPLES</td>\n",
       "      <td>117</td>\n",
       "    </tr>\n",
       "    <tr>\n",
       "      <th>1057323</th>\n",
       "      <td>LUNCH BAG RED RETROSPOT</td>\n",
       "      <td>LUNCH BAG PINK POLKADOT</td>\n",
       "      <td>114</td>\n",
       "    </tr>\n",
       "  </tbody>\n",
       "</table>\n",
       "</div>"
      ],
      "text/plain": [
       "                                      Pr-1                     Pr-2  Frequency\n",
       "931972                    JUMBO BAG APPLES  JUMBO BAG RED RETROSPOT        146\n",
       "942833             JUMBO BAG PINK POLKADOT  JUMBO BAG RED RETROSPOT        141\n",
       "1057317            LUNCH BAG RED RETROSPOT  LUNCH BAG  BLACK SKULL.        128\n",
       "967863              JUMBO STORAGE BAG SUKI  JUMBO BAG RED RETROSPOT        126\n",
       "1061463              LUNCH BAG SUKI DESIGN   LUNCH BAG APPLE DESIGN        123\n",
       "963840   JUMBO SHOPPER VINTAGE RED PAISLEY  JUMBO BAG RED RETROSPOT        120\n",
       "1900057                     SPOTTY BUNTING            PARTY BUNTING        119\n",
       "1059400          LUNCH BAG SPACEBOY DESIGN    LUNCH BAG SUKI DESIGN        117\n",
       "967855              JUMBO STORAGE BAG SUKI         JUMBO BAG APPLES        117\n",
       "1057323            LUNCH BAG RED RETROSPOT  LUNCH BAG PINK POLKADOT        114"
      ]
     },
     "execution_count": 746,
     "metadata": {},
     "output_type": "execute_result"
    }
   ],
   "source": [
    "# Display the top 10 most frequent product pairs\n",
    "top_pairs.head(10)\n"
   ]
  },
  {
   "cell_type": "markdown",
   "metadata": {},
   "source": [
    "f. How does basket size vary with the day of the week or time of the month?"
   ]
  },
  {
   "cell_type": "code",
   "execution_count": 747,
   "metadata": {},
   "outputs": [
    {
     "data": {
      "text/plain": [
       "day_of_week\n",
       "Friday       160592\n",
       "Monday       154365\n",
       "Sunday       119161\n",
       "Thursday     279080\n",
       "Tuesday      222780\n",
       "Wednesday    206277\n",
       "Name: Quantity, dtype: int64"
      ]
     },
     "execution_count": 747,
     "metadata": {},
     "output_type": "execute_result"
    }
   ],
   "source": [
    "# Calculate the total quantity of items sold for each day of the week\n",
    "# Group the DataFrame 'df' by the 'day_of_week' column and sum the 'Quantity' values\n",
    "basket_by_day = df.groupby('day_of_week')['Quantity'].sum()\n",
    "\n",
    "# Display the resulting sales quantities for each day of the week\n",
    "basket_by_day\n"
   ]
  },
  {
   "cell_type": "code",
   "execution_count": 748,
   "metadata": {},
   "outputs": [
    {
     "data": {
      "text/plain": [
       "Day\n",
       "1     39244\n",
       "2     28355\n",
       "3     18567\n",
       "4     56586\n",
       "5     48483\n",
       "6     27741\n",
       "7     36172\n",
       "8     36238\n",
       "9     21682\n",
       "10    17039\n",
       "11    55772\n",
       "12    38132\n",
       "13    37171\n",
       "14    28785\n",
       "15    41504\n",
       "16    25255\n",
       "17    34531\n",
       "18    37904\n",
       "19    40296\n",
       "20    58852\n",
       "21    43300\n",
       "22    50207\n",
       "23    28707\n",
       "24    44083\n",
       "25    42979\n",
       "26    37367\n",
       "27    30449\n",
       "28    53594\n",
       "29    36315\n",
       "30    28122\n",
       "31    18823\n",
       "Name: Quantity, dtype: int64"
      ]
     },
     "execution_count": 748,
     "metadata": {},
     "output_type": "execute_result"
    }
   ],
   "source": [
    "# Calculate the total quantity of items sold for each day of the month\n",
    "# Group the DataFrame 'df' by the 'Day' column and sum the 'Quantity' values\n",
    "basket_by_month = df.groupby('Day')['Quantity'].sum()\n",
    "\n",
    "# Display the resulting sales quantities for each day of the month\n",
    "basket_by_month\n"
   ]
  },
  {
   "cell_type": "markdown",
   "metadata": {},
   "source": [
    "g. Identify different baskets of goods sold, which are the top 10 baskets?"
   ]
  },
  {
   "cell_type": "code",
   "execution_count": 749,
   "metadata": {},
   "outputs": [
    {
     "name": "stdout",
     "output_type": "stream",
     "text": [
      "Top 10 Baskets:\n",
      "      BillNo  UniqueItems\n",
      "180   559055          487\n",
      "179   559052          463\n",
      "854   560772          449\n",
      "742   560434          443\n",
      "929   560926          438\n",
      "483   559816          433\n",
      "3576  567656          419\n",
      "3414  567183          386\n",
      "640   560225          379\n",
      "440   559693          358\n"
     ]
    }
   ],
   "source": [
    "# Group the DataFrame 'df' by 'BillNo' and calculate the number of unique items in each basket\n",
    "df_baskets = df.groupby('BillNo')['Itemname'].unique().apply(lambda x: len(x)).reset_index(name='UniqueItems')\n",
    "\n",
    "# Sort the baskets by the number of unique items in descending order\n",
    "top_10_baskets = df_baskets.sort_values(by='UniqueItems', ascending=False).head(10)\n",
    "\n",
    "# Display the top 10 baskets\n",
    "print(\"Top 10 Baskets:\")\n",
    "print(top_10_baskets)"
   ]
  },
  {
   "cell_type": "code",
   "execution_count": 750,
   "metadata": {},
   "outputs": [
    {
     "name": "stdout",
     "output_type": "stream",
     "text": [
      "                                              Basket  Count\n",
      "0                                          (Manual,)     25\n",
      "1                                         (POSTAGE,)     21\n",
      "2              (WHITE HANGING HEART T-LIGHT HOLDER,)      6\n",
      "3                    (PLEASE ONE PERSON METAL SIGN,)      6\n",
      "4                   (DOORMAT KEEP CALM AND COME IN,)      5\n",
      "5                  (PANTRY MAGNETIC  SHOPPING LIST,)      5\n",
      "6                                   (CHILLI LIGHTS,)      4\n",
      "7  (CREAM SWEETHEART MINI CHEST, PIGGY BANK RETRO...      4\n",
      "8                                   (PARTY BUNTING,)      4\n",
      "9                              (RABBIT NIGHT LIGHT,)      4\n"
     ]
    }
   ],
   "source": [
    "# Assuming your DataFrame is named df\n",
    "df_new_2 = df[['BillNo', 'Itemname']]\n",
    "\n",
    "# Group by 'BillNo' and collect unique item names into lists\n",
    "baskets = df_new_2.groupby('BillNo')['Itemname'].apply(list).reset_index()\n",
    "\n",
    "# Count the occurrences of each basket\n",
    "basket_counts = baskets['Itemname'].apply(lambda x: tuple(sorted(set(x)))).value_counts().reset_index()\n",
    "\n",
    "# Rename the columns\n",
    "basket_counts.columns = ['Basket', 'Count']\n",
    "\n",
    "# Sort by count in descending order and take the top 10\n",
    "top_baskets = basket_counts.sort_values(by='Count', ascending=False).head(10)\n",
    "\n",
    "# Display the result\n",
    "result = top_baskets[['Basket', 'Count']].reset_index(drop=True)\n",
    "print(result)\n"
   ]
  },
  {
   "cell_type": "markdown",
   "metadata": {},
   "source": [
    "h. Are there any loyal customers? Identify customers who make frequent purchases."
   ]
  },
  {
   "cell_type": "code",
   "execution_count": 751,
   "metadata": {},
   "outputs": [
    {
     "name": "stdout",
     "output_type": "stream",
     "text": [
      "Top 10 Loyal Customers:\n",
      "CustomerID\n",
      "17450.0    35448\n",
      "12931.0    18114\n",
      "18102.0    17333\n",
      "17511.0    16310\n",
      "13694.0    13646\n",
      "14298.0    13497\n",
      "17949.0    11609\n",
      "13089.0     8687\n",
      "18251.0     7824\n",
      "16029.0     7772\n",
      "Name: Quantity, dtype: int64\n"
     ]
    }
   ],
   "source": [
    "# Filter the DataFrame 'df' to exclude rows with 'CustomerID' equal to 'unknown'\n",
    "df_new_3 = df[df['CustomerID'] != 'unknown']\n",
    "\n",
    "# Group the filtered DataFrame by 'CustomerID' and calculate the sum of 'Quantity' for each customer\n",
    "# Then, sort the result in descending order based on sales quantity and select the top 10 customers\n",
    "top_10_customers = df_new_3.groupby('CustomerID')['Quantity'].sum().sort_values(ascending=False).head(10)\n",
    "\n",
    "# Display the top 10 customers and their total sales quantities\n",
    "print(\"Top 10 Loyal Customers:\")\n",
    "print(top_10_customers)\n"
   ]
  },
  {
   "cell_type": "markdown",
   "metadata": {},
   "source": [
    "i. Can you segment customers based on their total spend?"
   ]
  },
  {
   "cell_type": "code",
   "execution_count": 752,
   "metadata": {},
   "outputs": [
    {
     "data": {
      "text/html": [
       "<div>\n",
       "<style scoped>\n",
       "    .dataframe tbody tr th:only-of-type {\n",
       "        vertical-align: middle;\n",
       "    }\n",
       "\n",
       "    .dataframe tbody tr th {\n",
       "        vertical-align: top;\n",
       "    }\n",
       "\n",
       "    .dataframe thead th {\n",
       "        text-align: right;\n",
       "    }\n",
       "</style>\n",
       "<table border=\"1\" class=\"dataframe\">\n",
       "  <thead>\n",
       "    <tr style=\"text-align: right;\">\n",
       "      <th></th>\n",
       "      <th>CustomerID</th>\n",
       "      <th>Sales</th>\n",
       "      <th>Segment</th>\n",
       "    </tr>\n",
       "  </thead>\n",
       "  <tbody>\n",
       "    <tr>\n",
       "      <th>0</th>\n",
       "      <td>12747.0</td>\n",
       "      <td>301.70</td>\n",
       "      <td>Low Spender</td>\n",
       "    </tr>\n",
       "    <tr>\n",
       "      <th>1</th>\n",
       "      <td>12748.0</td>\n",
       "      <td>8039.76</td>\n",
       "      <td>High Spender</td>\n",
       "    </tr>\n",
       "    <tr>\n",
       "      <th>2</th>\n",
       "      <td>12749.0</td>\n",
       "      <td>1896.13</td>\n",
       "      <td>Medium Spender</td>\n",
       "    </tr>\n",
       "    <tr>\n",
       "      <th>3</th>\n",
       "      <td>12820.0</td>\n",
       "      <td>217.77</td>\n",
       "      <td>Low Spender</td>\n",
       "    </tr>\n",
       "    <tr>\n",
       "      <th>4</th>\n",
       "      <td>12822.0</td>\n",
       "      <td>948.88</td>\n",
       "      <td>Low Spender</td>\n",
       "    </tr>\n",
       "    <tr>\n",
       "      <th>...</th>\n",
       "      <td>...</td>\n",
       "      <td>...</td>\n",
       "      <td>...</td>\n",
       "    </tr>\n",
       "    <tr>\n",
       "      <th>1935</th>\n",
       "      <td>18273.0</td>\n",
       "      <td>102.00</td>\n",
       "      <td>Low Spender</td>\n",
       "    </tr>\n",
       "    <tr>\n",
       "      <th>1936</th>\n",
       "      <td>18278.0</td>\n",
       "      <td>173.90</td>\n",
       "      <td>Low Spender</td>\n",
       "    </tr>\n",
       "    <tr>\n",
       "      <th>1937</th>\n",
       "      <td>18282.0</td>\n",
       "      <td>100.21</td>\n",
       "      <td>Low Spender</td>\n",
       "    </tr>\n",
       "    <tr>\n",
       "      <th>1938</th>\n",
       "      <td>18283.0</td>\n",
       "      <td>274.79</td>\n",
       "      <td>Low Spender</td>\n",
       "    </tr>\n",
       "    <tr>\n",
       "      <th>1939</th>\n",
       "      <td>unknown</td>\n",
       "      <td>315177.80</td>\n",
       "      <td>High Spender</td>\n",
       "    </tr>\n",
       "  </tbody>\n",
       "</table>\n",
       "<p>1940 rows × 3 columns</p>\n",
       "</div>"
      ],
      "text/plain": [
       "     CustomerID      Sales         Segment\n",
       "0       12747.0     301.70     Low Spender\n",
       "1       12748.0    8039.76    High Spender\n",
       "2       12749.0    1896.13  Medium Spender\n",
       "3       12820.0     217.77     Low Spender\n",
       "4       12822.0     948.88     Low Spender\n",
       "...         ...        ...             ...\n",
       "1935    18273.0     102.00     Low Spender\n",
       "1936    18278.0     173.90     Low Spender\n",
       "1937    18282.0     100.21     Low Spender\n",
       "1938    18283.0     274.79     Low Spender\n",
       "1939    unknown  315177.80    High Spender\n",
       "\n",
       "[1940 rows x 3 columns]"
      ]
     },
     "execution_count": 752,
     "metadata": {},
     "output_type": "execute_result"
    }
   ],
   "source": [
    "# Group the DataFrame 'df' by 'CustomerID' and calculate the sum of 'Sales' for each customer\n",
    "customer_spending = df.groupby('CustomerID')['Sales'].sum().reset_index()\n",
    "\n",
    "# Define spending thresholds for segmentation\n",
    "low_threshold = 1000\n",
    "high_threshold = 5000\n",
    "\n",
    "# Create a function to segment customers based on their total spending\n",
    "def segment_customers(spend):\n",
    "    if spend < low_threshold:\n",
    "        return 'Low Spender'\n",
    "    elif spend < high_threshold:\n",
    "        return 'Medium Spender'\n",
    "    else:\n",
    "        return 'High Spender'\n",
    "\n",
    "# Apply the segmentation function to the 'Sales' column and create a new 'Segment' column\n",
    "customer_spending['Segment'] = customer_spending['Sales'].apply(segment_customers)\n",
    "\n",
    "# Display the segmented customers along with their total spending and segments\n",
    "customer_spending"
   ]
  },
  {
   "cell_type": "markdown",
   "metadata": {},
   "source": [
    "j. How often do customers return to make another purchase?"
   ]
  },
  {
   "cell_type": "code",
   "execution_count": 753,
   "metadata": {},
   "outputs": [
    {
     "name": "stdout",
     "output_type": "stream",
     "text": [
      "Customer Retention Rate within 1 months: 71.34%\n"
     ]
    }
   ],
   "source": [
    "# Set the number of months for the time frame\n",
    "months = 1\n",
    "\n",
    "# Convert the 'Date' column to a datetime object if it's not already\n",
    "df['Date'] = pd.to_datetime(df['Date'])\n",
    "\n",
    "# Group by 'CustomerID' and calculate the earliest and latest purchase dates\n",
    "customer_purchase_dates = df.groupby('CustomerID')['Date'].agg(['min', 'max'])\n",
    "\n",
    "# Calculate the start date of the time frame by subtracting the specified number of months from the latest purchase date\n",
    "time_frame_start = customer_purchase_dates['max'] - pd.DateOffset(months=months)\n",
    "\n",
    "# Identify repeat customers by selecting those whose earliest purchase date is within the specified time frame\n",
    "repeat_customers = customer_purchase_dates[customer_purchase_dates['min'] >= time_frame_start]\n",
    "\n",
    "# Calculate the customer retention rate by dividing the number of repeat customers by the total number of unique customers\n",
    "retention_rate = len(repeat_customers) / len(customer_purchase_dates) * 100\n",
    "\n",
    "# Print the customer retention rate\n",
    "print(f\"Customer Retention Rate within {months} months: {retention_rate:.2f}%\")"
   ]
  }
 ],
 "metadata": {
  "kernelspec": {
   "display_name": "myenv",
   "language": "python",
   "name": "python3"
  },
  "language_info": {
   "codemirror_mode": {
    "name": "ipython",
    "version": 3
   },
   "file_extension": ".py",
   "mimetype": "text/x-python",
   "name": "python",
   "nbconvert_exporter": "python",
   "pygments_lexer": "ipython3",
   "version": "3.11.4"
  },
  "orig_nbformat": 4
 },
 "nbformat": 4,
 "nbformat_minor": 2
}
